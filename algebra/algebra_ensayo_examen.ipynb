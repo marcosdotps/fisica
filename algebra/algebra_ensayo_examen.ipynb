{
  "cells": [
    {
      "cell_type": "code",
      "execution_count": 1,
      "metadata": {
        "id": "vq4kzGQ7eZMO"
      },
      "outputs": [],
      "source": [
        "# Importar librerías necesarias\n",
        "from IPython.display import display, Markdown\n",
        "import random\n",
        "import copy"
      ]
    },
    {
      "cell_type": "code",
      "execution_count": 2,
      "metadata": {
        "id": "D7NRNqnYdl4a"
      },
      "outputs": [],
      "source": [
        "\n",
        "\n",
        "# Importar librerías necesarias\n",
        "from IPython.display import display, Markdown\n",
        "import random\n",
        "import copy\n",
        "\n",
        "# Lista de preguntas, respuestas desordenadas, demasiado randomizador, fíjate y punto\n",
        "questions = [\n",
        "    {\n",
        "        \"question\": \"¿Qué mide una función de pérdida en un ajuste de datos?\",\n",
        "        \"options\": [\n",
        "            \"A. La relación entre variables dependientes e independientes.\",\n",
        "            \"B. La precisión del modelo al predecir datos experimentales.\",\n",
        "            \"C. El número de parámetros necesarios para el ajuste.\",\n",
        "            \"D. El rango de las variables independientes.\"\n",
        "        ],\n",
        "        \"answer\": \"B\"\n",
        "    },\n",
        "    {\n",
        "        \"question\": \"¿Qué indica un coeficiente de correlación $r = 1$?\",\n",
        "        \"options\": [\n",
        "            \"A. Una relación cuadrática entre las variables.\",\n",
        "            \"B. Una relación lineal perfecta positiva entre las variables.\",\n",
        "            \"C. Una relación inversa entre las variables.\",\n",
        "            \"D. La ausencia de relación entre las variables.\"\n",
        "        ],\n",
        "        \"answer\": \"B\"\n",
        "    },\n",
        "\n",
        "    {\n",
        "        \"question\": \"¿Qué es una proyección ortogonal?\",\n",
        "        \"options\": [\n",
        "            \"A. La normalización de un vector en un subespacio.\",\n",
        "            \"B. La componente de un vector en un subespacio dado.\",\n",
        "            \"C. La suma de dos vectores ortogonales.\",\n",
        "            \"D. La representación de un vector sobre un subespacio ortogonal.\"\n",
        "        ],\n",
        "        \"answer\": \"B\"\n",
        "    },\n",
        "    {\n",
        "        \"question\": \"El complemento ortogonal de un subespacio $W$ se denota como:\",\n",
        "        \"options\": [\n",
        "            \"A. $W^{\\\\infty}$.\",\n",
        "            \"B. $W^{\\\\perp}$.\",\n",
        "            \"C. $W^{*}$.\",\n",
        "            \"D. $W^{\\\\text{tack}.b}$.\"\n",
        "        ],\n",
        "        \"answer\": \"B\"\n",
        "    },\n",
        "    {\n",
        "        \"question\": \"¿Qué significa que un sistema lineal sea homogéneo?\",\n",
        "        \"options\": [\n",
        "            \"A. Su matriz es invertible.\",\n",
        "            \"B. Tiene infinitas soluciones.\",\n",
        "            \"C. Tiene la forma $A \\\\mathbf{x} = \\\\mathbf{0}$.\",\n",
        "            \"D. Es incompatible.\"\n",
        "        ],\n",
        "        \"answer\": \"C\"\n",
        "    },\n",
        "\n",
        "    {\n",
        "        \"question\": \"¿Qué diferencia hay entre un espacio euclídeo y un espacio afín?\",\n",
        "        \"options\": [\n",
        "            \"B. Solo el espacio afín incluye un producto escalar.\",\n",
        "            \"C. El espacio euclídeo es independiente del origen.\",\n",
        "            \"A. Ambos tienen un origen fijo.\",\n",
        "            \"D. El espacio afín no tiene un origen fijo y es relativo.\"\n",
        "        ],\n",
        "        \"answer\": \"D\"\n",
        "    },\n",
        "    {\n",
        "        \"question\": \"¿Qué se necesita para transformar coordenadas entre dos referencias afines?\",\n",
        "        \"options\": [\n",
        "            \"B. Solo la base del espacio vectorial.\",\n",
        "            \"D. Una transformación que preserve distancias.\",\n",
        "            \"A. Una métrica definida.\",\n",
        "            \"C. Una matriz de cambio de base y coordenadas del origen de una referencia en la otra.\"\n",
        "        ],\n",
        "        \"answer\": \"C\"\n",
        "    },\n",
        "\n",
        "    {\n",
        "        \"question\": \"En una aplicación afín, ¿qué papel juega el término de traslación $\\\\mathbf{b}$?\",\n",
        "        \"options\": [\n",
        "            \"C. Preservar distancias y ángulos.\",\n",
        "            \"A. Introducir una métrica definida.\",\n",
        "            \"B. Rotar el espacio vectorial subyacente.\",\n",
        "            \"D. Desplazar los puntos en el espacio afín.\"\n",
        "        ],\n",
        "        \"answer\": \"D\"\n",
        "    },\n",
        "    {\n",
        "        \"question\": \"¿Qué sucede si la transformación lineal asociada a una aplicación afín es ortogonal?\",\n",
        "        \"options\": [\n",
        "            \"B. El espacio afín pierde sus propiedades.\",\n",
        "            \"D. Se preservan distancias y ángulos.\",\n",
        "            \"C. No se conservan distancias ni ángulos.\",\n",
        "            \"A. No afecta al paralelismo entre vectores.\"\n",
        "        ],\n",
        "        \"answer\": \"D\"\n",
        "    },\n",
        "    {\n",
        "        \"question\": \"¿En qué tipo de situaciones es útil un espacio afín?\",\n",
        "        \"options\": [\n",
        "            \"D. Modelar situaciones donde las posiciones absolutas no importan.\",\n",
        "            \"B. Transformar sistemas con métricas definidas.\",\n",
        "            \"C. Resolver problemas con productos escalares.\",\n",
        "            \"A. Modelar geometría con distancias absolutas.\"\n",
        "        ],\n",
        "        \"answer\": \"D\"\n",
        "    },\n",
        "\n",
        "\n",
        "\n",
        "    {\n",
        "        \"question\": \"¿Qué define a un espacio afín de funciones?\",\n",
        "        \"options\": [\n",
        "            \"A. Un conjunto de puntos que forman una métrica.\",\n",
        "            \"D. Un subespacio vectorial trasladado por una función fija.\",\n",
        "            \"B. Funciones continuas que pasan por el origen.\",\n",
        "            \"C. Un conjunto de funciones con suma y producto escalar definidos.\"\n",
        "        ],\n",
        "        \"answer\": \"D\"\n",
        "    },\n",
        "    {\n",
        "        \"question\": \"¿Qué implica que $A = \\\\{ f_0 + g \\\\mid g \\\\in V \\\\}$ en un espacio afín de funciones?\",\n",
        "        \"options\": [\n",
        "            \"A. $A$ contiene solo funciones constantes.\",\n",
        "            \"C. $A$ contiene funciones continuas con métricas definidas.\",\n",
        "            \"D. $A$ es una traslación de $V$ desplazada por $f_0$.\",\n",
        "            \"B. $A$ no es una traslación de $V$.\"\n",
        "        ],\n",
        "        \"answer\": \"D\"\n",
        "    },\n",
        "    {\n",
        "        \"question\": \"¿Qué es una aplicación afín?\",\n",
        "        \"options\": [\n",
        "            \"A. Una transformación que preserva distancias y ángulos.\",\n",
        "            \"B. Una función que conecta dos espacios vectoriales con el mismo origen.\",\n",
        "            \"D. Una transformación que incluye un término de traslación.\",\n",
        "            \"C. Una función entre espacios afines que preserva relaciones lineales relativas.\"\n",
        "        ],\n",
        "        \"answer\": \"D\"\n",
        "    },\n",
        "\n",
        "\n",
        "\n",
        "    {\n",
        "        \"question\": \"¿Qué es un espacio afín?\",\n",
        "        \"options\": [\n",
        "            \"B. Un espacio vectorial con un origen fijo.\",\n",
        "            \"C. Una estructura matemática con métricas y ángulos.\",\n",
        "            \"A. Un conjunto de puntos con un producto escalar definido.\",\n",
        "            \"D. Un conjunto de puntos y un espacio vectorial relacionado mediante una aplicación.\"\n",
        "        ],\n",
        "        \"answer\": \"D\"\n",
        "    },\n",
        "    {\n",
        "        \"question\": \"¿Cómo se define la operación $P + \\\\mathbf{v}$ en un espacio afín?\",\n",
        "        \"options\": [\n",
        "            \"D. Como una operación que da como resultado un nuevo punto en el espacio afín.\",\n",
        "            \"C. Como una operación que da como resultado un nuevo vector.\",\n",
        "            \"B. Como el producto escalar entre un punto y un vector.\",\n",
        "            \"A. Como la suma tradicional de un punto y un vector.\"\n",
        "        ],\n",
        "        \"answer\": \"D\"\n",
        "    },\n",
        "    {\n",
        "        \"question\": \"¿Qué ocurre si $P + \\\\mathbf{v} = P$ en un espacio afín?\",\n",
        "        \"options\": [\n",
        "            \"A. El punto $P$ se traslada al origen.\",\n",
        "            \"C. El espacio afín pierde su estructura.\",\n",
        "            \"D. El vector $\\\\mathbf{v}$ es igual a cero.\",\n",
        "            \"B. El vector $\\\\mathbf{v}$ es distinto de cero.\"\n",
        "        ],\n",
        "        \"answer\": \"D\"\n",
        "    },\n",
        "    {\n",
        "        \"question\": \"¿Qué elemento caracteriza a una referencia afín?\",\n",
        "        \"options\": [\n",
        "            \"D. Un punto de origen y un conjunto de métricas.\",\n",
        "            \"C. Un conjunto de puntos con distancias definidas.\",\n",
        "            \"A. Un punto de origen y una base del espacio vectorial.\",\n",
        "            \"B. Solo una base del espacio vectorial.\"\n",
        "        ],\n",
        "        \"answer\": \"A\"\n",
        "    },\n",
        "\n",
        "    {\n",
        "        \"question\": \"¿Cuál es el orden correcto de pasos para diagonalizar una matriz?\",\n",
        "        \"options\": [\n",
        "            \"C. Encontrar $P$, calcular los autovalores y formar $P^{-1}$.\",\n",
        "            \"A. Determinar si es regular, encontrar autovalores y calcular $P^{-1} A P$ (donde $P$ es una matriz de transición).\",\n",
        "            \"D. Resolver un sistema lineal homogéneo y calcular determinantes.\",\n",
        "            \"B. Calcular el polinomio característico, encontrar las raíces y construir $P$.\"\n",
        "        ],\n",
        "        \"answer\": \"B\"\n",
        "    },\n",
        "    {\n",
        "        \"question\": \"¿Qué significa que una matriz sea diagonalizable en $\\\\mathbb{C}$ pero no en $\\\\mathbb{R}$?\",\n",
        "        \"options\": [\n",
        "            \"A. Sus autovalores son reales pero no únicos.\",\n",
        "            \"D. Sus autovalores no son reales, pero son complejos conjugados.\",\n",
        "            \"B. Su polinomio característico no tiene raíces en $\\\\mathbb{R}$.\",\n",
        "            \"C. No tiene autovalores en $\\\\mathbb{R}$.\"\n",
        "        ],\n",
        "        \"answer\": \"B\"\n",
        "    },\n",
        "    {\n",
        "        \"question\": \"¿Cómo se obtiene una matriz diagonal a partir de una matriz diagonalizable?\",\n",
        "        \"options\": [\n",
        "            \"A. Aplicando una transformación ortogonal.\",\n",
        "            \"D. Calculando los vectores propios de la matriz.\",\n",
        "            \"C. Resolviendo el polinomio característico.\",\n",
        "            \"B. Multiplicando por $P^{-1}$ (matriz de transición invertida) por la derecha y $P$ por la izquierda.\"\n",
        "        ],\n",
        "        \"answer\": \"B\"\n",
        "    },\n",
        "    {\n",
        "        \"question\": \"¿Qué representa el núcleo de $A - \\\\lambda I$?\",\n",
        "        \"options\": [\n",
        "            \"C. El polinomio característico.\",\n",
        "            \"D. La transformación de una base estándar.\",\n",
        "            \"A. El espacio nulo de la matriz diagonal.\",\n",
        "            \"B. El conjunto de vectores propios asociados al autovalor $\\\\lambda$.\"\n",
        "        ],\n",
        "        \"answer\": \"B\"\n",
        "    },\n",
        "    {\n",
        "        \"question\": \"¿Qué condición debe cumplir una base para que un endomorfismo sea diagonalizable?\",\n",
        "        \"options\": [\n",
        "            \"C. Que todos los vectores de la base tengan norma 1.\",\n",
        "            \"D. Que la base sea única.\",\n",
        "            \"A. Que todos los vectores de la base sean ortogonales.\",\n",
        "            \"B. Que los vectores de la base sean autovectores del endomorfismo.\"\n",
        "        ],\n",
        "        \"answer\": \"B\"\n",
        "    },\n",
        "    {\n",
        "        \"question\": \"¿Cuál es la dimensión de un subespacio propio asociado a un autovalor?\",\n",
        "        \"options\": [\n",
        "            \"A. El rango de la matriz $A - \\\\lambda I$.\",\n",
        "            \"C. El número de soluciones linealmente independientes del sistema $(A - \\\\lambda I) v = 0$.\",\n",
        "            \"D. El determinante de la matriz $A - \\\\lambda I$.\",\n",
        "            \"B. La multiplicidad del autovalor como raíz del polinomio característico.\"\n",
        "        ],\n",
        "        \"answer\": \"B\"\n",
        "    },\n",
        "    {\n",
        "        \"question\": \"¿Qué sucede si una matriz tiene autovalores repetidos pero sigue siendo diagonalizable?\",\n",
        "        \"options\": [\n",
        "            \"D. Los autovalores repetidos impiden que la matriz sea diagonalizable.\",\n",
        "            \"B. Los subespacios propios asociados a los autovalores repetidos son linealmente independientes.\",\n",
        "            \"A. Los autovalores repetidos corresponden a vectores propios linealmente dependientes.\",\n",
        "            \"C. La matriz tiene subespacios propios de mayor dimensión.\"\n",
        "        ],\n",
        "        \"answer\": \"B\"\n",
        "    },\n",
        "\n",
        "\n",
        "    {\n",
        "        \"question\": \"¿Qué representa un endomorfismo de un espacio vectorial $V$?\",\n",
        "        \"options\": [\n",
        "            \"D. Una base de vectores ortogonales.\",\n",
        "            \"A. Una función que mapea $V$ en otro espacio vectorial.\",\n",
        "            \"B. Una función lineal que mapea $V$ en sí mismo.\",\n",
        "            \"C. Una matriz de transformación entre espacios vectoriales distintos.\"\n",
        "        ],\n",
        "        \"answer\": \"B\"\n",
        "    },\n",
        "    {\n",
        "        \"question\": \"¿Qué significa que dos matrices $A$ y $A'$ son semejantes?\",\n",
        "        \"options\": [\n",
        "            \"C. Tienen el mismo polinomio característico.\",\n",
        "            \"B. Existe una matriz regular $P$ tal que $A' = P^{-1} A P$.\",\n",
        "            \"D. Ambas son diagonales.\",\n",
        "            \"A. Tienen el mismo determinante.\"\n",
        "        ],\n",
        "        \"answer\": \"B\"\n",
        "    },\n",
        "    {\n",
        "        \"question\": \"¿Qué garantiza que un endomorfismo sea diagonalizable?\",\n",
        "        \"options\": [\n",
        "            \"A. Que todos sus autovalores sean reales.\",\n",
        "            \"C. Que su matriz asociada sea regular.\",\n",
        "            \"B. Que exista una base formada por vectores propios.\",\n",
        "            \"D. Que el polinomio característico sea de grado $n$.\"\n",
        "        ],\n",
        "        \"answer\": \"B\"\n",
        "    },\n",
        "    {\n",
        "        \"question\": \"¿Qué nombre recibe la matriz $P$ en el contexto de semejanza entre matrices?\",\n",
        "        \"options\": [\n",
        "            \"C. Matriz ortogonal.\",\n",
        "            \"B. Matriz de paso.\",\n",
        "            \"A. Matriz de transformación.\",\n",
        "            \"D. Matriz característica.\"\n",
        "        ],\n",
        "        \"answer\": \"B\"\n",
        "    },\n",
        "    {\n",
        "        \"question\": \"¿Qué son los autovalores de un endomorfismo?\",\n",
        "        \"options\": [\n",
        "            \"A. Los vectores asociados a una matriz diagonal.\",\n",
        "            \"C. Valores que determinan si una matriz es regular.\",\n",
        "            \"B. Escalares que cumplen $A v = \\\\lambda v$ para algún vector no nulo $\\\\mathbf{v}$.\",\n",
        "            \"D. Coeficientes de una matriz en la base estándar.\"\n",
        "        ],\n",
        "        \"answer\": \"B\"\n",
        "    },\n",
        "    {\n",
        "        \"question\": \"¿Qué propiedad fundamental tienen los autovalores y autovectores de una matriz?\",\n",
        "        \"options\": [\n",
        "            \"D. Solo existen para matrices diagonales.\",\n",
        "            \"B. Son invariantes bajo cambios de base.\",\n",
        "            \"A. Cambian según la base elegida.\",\n",
        "            \"C. Dependen del determinante de la matriz.\"\n",
        "        ],\n",
        "        \"answer\": \"B\"\n",
        "    },\n",
        "    {\n",
        "        \"question\": \"¿Qué relación existe entre el polinomio característico de una matriz y sus autovalores?\",\n",
        "        \"options\": [\n",
        "            \"C. Los autovalores son los exponentes de las raíces del polinomio.\",\n",
        "            \"D. No existe relación entre ellos.\",\n",
        "            \"B. Los autovalores son los ceros del polinomio característico.\",\n",
        "            \"A. Los autovalores son los coeficientes del polinomio.\"\n",
        "        ],\n",
        "        \"answer\": \"B\"\n",
        "    },\n",
        "    {\n",
        "        \"question\": \"¿Qué determina la matriz $P$ en el proceso de diagonalización?\",\n",
        "        \"options\": [\n",
        "            \"A. Los autovalores de la matriz original.\",\n",
        "            \"D. La regularidad de la matriz original.\",\n",
        "            \"B. Los vectores propios colocados como columnas.\",\n",
        "            \"C. Los coeficientes del polinomio característico.\"\n",
        "        ],\n",
        "        \"answer\": \"B\"\n",
        "    },\n",
        "\n",
        "\n",
        "    {\n",
        "        \"question\": \"¿Qué define una combinación lineal de vectores?\",\n",
        "        \"options\": [\n",
        "            \"C. La composición de aplicaciones lineales.\",\n",
        "            \"B. La intersección de subespacios.\",\n",
        "            \"A. Una suma de vectores multiplicados por escalares.\",\n",
        "            \"D. Ninguna de las anteriores.\"\n",
        "        ],\n",
        "        \"answer\": \"A\"\n",
        "    },\n",
        "    {\n",
        "        \"question\": \"Si $f$ es una aplicación lineal, entonces $f(0)$ es:\",\n",
        "        \"options\": [\n",
        "            \"D. Ninguna de las anteriores.\",\n",
        "            \"C. Inexistente.\",\n",
        "            \"A. Siempre el vector nulo en el codominio.\",\n",
        "            \"B. El vector nulo en el dominio.\"\n",
        "        ],\n",
        "        \"answer\": \"A\"\n",
        "    },\n",
        "    {\n",
        "        \"question\": \"Una base de un espacio vectorial tiene las propiedades:\",\n",
        "        \"options\": [\n",
        "            \"C. Es única.\",\n",
        "            \"B. Contiene el vector nulo.\",\n",
        "            \"D. Ninguna de las anteriores.\",\n",
        "            \"A. Es linealmente independiente y genera el espacio.\"\n",
        "        ],\n",
        "        \"answer\": \"A\"\n",
        "    },\n",
        "    {\n",
        "        \"question\": \"Si $A = \\\\{ (1, 0), (0, 1) \\\\}$ en $\\\\mathbb{R}^2$, entonces $\\\\langle A \\\\rangle$ es:\",\n",
        "        \"options\": [\n",
        "            \"C. Un subespacio propio de $\\\\mathbb{R}^2$.\",\n",
        "            \"B. $\\\\mathbb{R}$.\",\n",
        "            \"D. Ninguna de las anteriores.\",\n",
        "            \"A. $\\\\mathbb{R}^2$.\"\n",
        "        ],\n",
        "        \"answer\": \"A\"\n",
        "    },\n",
        "    {\n",
        "        \"question\": \"La intersección de dos subespacios $U$ y $W$ de $V$ es:\",\n",
        "        \"options\": [\n",
        "            \"D. Ninguna de las anteriores.\",\n",
        "            \"C. Igual a $U + W$.\",\n",
        "            \"B. Nunca un subespacio vectorial.\",\n",
        "            \"A. Siempre un subespacio vectorial.\"\n",
        "        ],\n",
        "        \"answer\": \"A\"\n",
        "    },\n",
        "\n",
        "\n",
        "    {\n",
        "        \"question\": \"La dimensión de un espacio vectorial $V$ es:\",\n",
        "        \"options\": [\n",
        "            \"D. La cantidad de vectores linealmente independientes.\",\n",
        "            \"A. El número de vectores en cualquier base de $V$.\",\n",
        "            \"C. La cantidad de subespacios que contiene.\",\n",
        "            \"B. El número de generadores de $V$.\"\n",
        "        ],\n",
        "        \"answer\": \"A\"\n",
        "    },\n",
        "    {\n",
        "        \"question\": \"Una aplicación lineal $f : U \\\\to V$ es inyectiva si:\",\n",
        "        \"options\": [\n",
        "            \"B. $f$ es suprayectiva.\",\n",
        "            \"C. $f(U) = V$.\",\n",
        "            \"A. $\\\\ker f = \\\\{ 0 \\\\}$.\",\n",
        "            \"D. $\\\\dim \\\\ker f > 0$.\"\n",
        "        ],\n",
        "        \"answer\": \"A\"\n",
        "    },\n",
        "    {\n",
        "        \"question\": \"Una aplicación lineal $f$ es suprayectiva si:\",\n",
        "        \"options\": [\n",
        "            \"C. Es inyectiva.\",\n",
        "            \"A. $\\\\text{Im } f = V$.\",\n",
        "            \"D. Ninguna de las anteriores.\",\n",
        "            \"B. $\\\\ker f = \\\\{ 0 \\\\}$.\"\n",
        "        ],\n",
        "        \"answer\": \"A\"\n",
        "    },\n",
        "    {\n",
        "        \"question\": \"Una aplicación lineal $f : U \\\\to V$ se llama automorfismo si:\",\n",
        "        \"options\": [\n",
        "            \"A. $f$ es biyectiva y $U = V$.\",\n",
        "            \"C. $f$ es suprayectiva pero no inyectiva.\",\n",
        "            \"B. $f$ es inyectiva pero no suprayectiva.\",\n",
        "            \"D. Ninguna de las anteriores.\"\n",
        "        ],\n",
        "        \"answer\": \"A\"\n",
        "    },\n",
        "    {\n",
        "        \"question\": \"¿Cuál de las siguientes estructuras algebraicas es un cuerpo?\",\n",
        "        \"options\": [\n",
        "            \"D. $(\\\\mathbb{C}, +)$.\",\n",
        "            \"B. $(\\\\mathbb{Z}, +, \\\\cdot)$.\",\n",
        "            \"C. $(\\\\mathbb{Q}^*, \\\\cdot)$.\",\n",
        "            \"A. $(\\\\mathbb{R}, +, \\\\cdot)$.\"\n",
        "        ],\n",
        "        \"answer\": \"A\"\n",
        "    },\n",
        "    {\n",
        "        \"question\": \"Un sistema de vectores $L$ es un sistema generador de un espacio vectorial $V$ si:\",\n",
        "        \"options\": [\n",
        "            \"A. $\\\\langle L \\\\rangle = V$.\",\n",
        "            \"D. Ninguna de las anteriores.\",\n",
        "            \"B. Los elementos de $L$ son linealmente independientes.\",\n",
        "            \"C. Los elementos de $L$ forman un subespacio propio de $V$.\"\n",
        "        ],\n",
        "        \"answer\": \"A\"\n",
        "    },\n",
        "    {\n",
        "        \"question\": \"Si $\\\\dim V = n$ y $\\\\dim W = m$, entonces $\\\\dim (V \\\\oplus W)$ es:\",\n",
        "        \"options\": [\n",
        "            \"C. $n - m$.\",\n",
        "            \"D. $\\\\max(n, m)$.\",\n",
        "            \"A. $n + m$.\",\n",
        "            \"B. $n \\\\cdot m$.\"\n",
        "        ],\n",
        "        \"answer\": \"A\"\n",
        "    },\n",
        "    {\n",
        "        \"question\": \"La envoltura lineal $\\\\langle L \\\\rangle$ de un conjunto de vectores $L$ es:\",\n",
        "        \"options\": [\n",
        "            \"B. Un sistema generador.\",\n",
        "            \"D. Ninguna de las anteriores.\",\n",
        "            \"C. Una combinación lineal de $L$.\",\n",
        "            \"A. Un subespacio vectorial.\"\n",
        "        ],\n",
        "        \"answer\": \"A\"\n",
        "    },\n",
        "    {\n",
        "        \"question\": \"Un conjunto de vectores linealmente dependiente:\",\n",
        "        \"options\": [\n",
        "            \"C. Es un subespacio vectorial.\",\n",
        "            \"B. Genera un sistema libre.\",\n",
        "            \"D. Ninguna de las anteriores.\",\n",
        "            \"A. Contiene vectores que son combinación lineal de otros.\"\n",
        "        ],\n",
        "        \"answer\": \"A\"\n",
        "    },\n",
        "    {\n",
        "        \"question\": \"Si $f : U \\\\to V$ es un isomorfismo, entonces:\",\n",
        "        \"options\": [\n",
        "            \"A. $U$ y $V$ tienen la misma dimensión.\",\n",
        "            \"B. $f$ es inyectiva pero no suprayectiva.\",\n",
        "            \"D. Ninguna de las anteriores.\",\n",
        "            \"C. $f$ no tiene núcleo.\"\n",
        "        ],\n",
        "        \"answer\": \"A\"\n",
        "    },\n",
        "\n",
        "\n",
        "    {\n",
        "        \"question\": \"¿Qué característica distingue a un espacio vectorial afín?\",\n",
        "        \"options\": [\n",
        "            \"C. Carece de una estructura vectorial subyacente.\",\n",
        "            \"A. Tiene un origen fijo.\",\n",
        "            \"D. Describe relaciones entre puntos sin un origen fijo.\",\n",
        "            \"B. Incluye ángulos y distancias.\"\n",
        "        ],\n",
        "        \"answer\": \"D\"\n",
        "    },\n",
        "    {\n",
        "        \"question\": \"En un espacio afín, ¿qué representa el vector $\\\\vec{AB}$?\",\n",
        "        \"options\": [\n",
        "            \"D. El vector con origen en $A$ y extremo en $B$.\",\n",
        "            \"B. El vector resultante de $B + A$.\",\n",
        "            \"A. La suma de las coordenadas de $A$ y $B$.\",\n",
        "            \"C. La dirección desde $B$ hacia $A$.\"\n",
        "        ],\n",
        "        \"answer\": \"D\"\n",
        "    },\n",
        "\n",
        "\n",
        "\n",
        "    {\n",
        "        \"question\": \"Una base de un espacio vectorial:\",\n",
        "        \"options\": [\n",
        "            \"A. Tiene infinitos elementos.\",\n",
        "            \"B. Siempre es única.\",\n",
        "            \"C. No es única.\",\n",
        "            \"D. Es una combinación lineal.\"\n",
        "        ],\n",
        "        \"answer\": \"C\"\n",
        "    },\n",
        "\n",
        "    {\n",
        "        \"question\": \"¿Qué es un espacio vectorial sobre un cuerpo $K$?\",\n",
        "        \"options\": [\n",
        "            \"A. Un conjunto con una operación binaria únicamente.\",\n",
        "            \"B. Un conjunto finito con operaciones algebraicas.\",\n",
        "            \"C. Un conjunto vacío con operaciones definidas.\",\n",
        "            \"D. Un conjunto no vacío con operaciones de suma y multiplicación por escalares, cumpliendo ciertas propiedades.\"\n",
        "        ],\n",
        "        \"answer\": \"D\"\n",
        "    },\n",
        "    {\n",
        "        \"question\": \"Sea la aplicación lineal $f : \\\\mathbb{R}^3 \\\\to \\\\mathbb{R}^2$ definida como $f (x, y, z) = (x + y, x - z)$. Una base de su núcleo será:\",\n",
        "        \"options\": [\n",
        "            \"A. $\\\\{ (1, -1, 1), (1, 0, 1) \\\\}$.\",\n",
        "            \"B. Todas son falsas.\",\n",
        "            \"C. $\\\\{ (1, 0, 0) \\\\}$.\",\n",
        "            \"D. $\\\\{ (1, -1, 1) \\\\}$.\"\n",
        "        ],\n",
        "        \"answer\": \"D\"\n",
        "    },\n",
        "    {\n",
        "        \"question\": \"Sea la aplicación lineal $f : \\\\mathbb{R} \\\\to \\\\mathbb{R}$ definida por $f(\\\\mathbf{x}) = a \\\\cdot \\\\mathbf{x}$, con $a \\\\neq 0$. Entonces, $\\\\ker f$ es equivalente a:\",\n",
        "        \"options\": [\n",
        "            \"A. $\\\\{ a \\\\}$.\",\n",
        "            \"B. $\\\\mathbb{R}$.\",\n",
        "            \"C. Todas son falsas.\",\n",
        "            \"D. $\\\\{ \\\\mathbf{0} \\\\}$.\"\n",
        "        ],\n",
        "        \"answer\": \"D\"\n",
        "    },\n",
        "    {\n",
        "        \"question\": \"Una aplicación $f : V \\\\to V'$ es inyectiva si:\",\n",
        "        \"options\": [\n",
        "            \"A. $\\\\text{Im} f = V'$.\",\n",
        "            \"B. $\\\\text{Im} f = V$.\",\n",
        "            \"C. $\\\\ker f = V'$.\",\n",
        "            \"D. Todas son falsas.\"\n",
        "        ],\n",
        "        \"answer\": \"D\"\n",
        "    },\n",
        "\n",
        "\n",
        "\n",
        "    {\n",
        "        \"question\": \"En una regresión lineal, ¿cómo se calcula la pendiente $m$?\",\n",
        "        \"options\": [\n",
        "            \"A. $m = \\\\sum (y_i - \\\\bar{y}) (x_i - \\\\bar{x})$.\",\n",
        "            \"B. $m = \\\\frac{\\\\sum (y_i - \\\\bar{y})}{\\\\sum (x_i - \\\\bar{x})}$.\",\n",
        "            \"C. $m = \\\\frac{\\\\bar{y} - \\\\bar{x}}{\\\\bar{x}}$.\",\n",
        "            \"D. $m = \\\\frac{\\\\sum (x_i - \\\\bar{x}) (y_i - \\\\bar{y})}{\\\\sum (x_i - \\\\bar{x})^2}$.\"\n",
        "        ],\n",
        "        \"answer\": \"D\"\n",
        "    },\n",
        "    {\n",
        "        \"question\": \"¿Qué sucede si $r_{xy} = 0$?\",\n",
        "        \"options\": [\n",
        "            \"A. Los valores de $x$ e $y$ son iguales.\",\n",
        "            \"B. Existe una relación parabólica.\",\n",
        "            \"C. Las variables no tienen correlación lineal.\",\n",
        "            \"D. Hay una correlación lineal inversa.\"\n",
        "        ],\n",
        "        \"answer\": \"C\"\n",
        "    },\n",
        "    {\n",
        "        \"question\": \"¿Qué mide la varianza en un conjunto de datos?\",\n",
        "        \"options\": [\n",
        "            \"A. La pendiente del modelo ajustado.\",\n",
        "            \"B. La dispersión respecto a la media.\",\n",
        "            \"C. El coeficiente de correlación lineal.\",\n",
        "            \"D. La covarianza entre los datos.\"\n",
        "        ],\n",
        "        \"answer\": \"B\"\n",
        "    },\n",
        "\n",
        "\n",
        "    {\n",
        "        \"question\": \"¿Qué tipo de solución tiene un sistema lineal compatible indeterminado?\",\n",
        "        \"options\": [\n",
        "            \"A. No tiene solución.\",\n",
        "            \"B. Tiene una única solución.\",\n",
        "            \"C. Tiene más de una solución.\",\n",
        "            \"D. No se puede determinar.\"\n",
        "        ],\n",
        "        \"answer\": \"C\"\n",
        "    },\n",
        "    {\n",
        "        \"question\": \"¿Cuál es el rango de una matriz?\",\n",
        "        \"options\": [\n",
        "            \"A. El número de elementos no nulos de la matriz.\",\n",
        "            \"B. La suma de los elementos de la diagonal de la matriz.\",\n",
        "            \"C. El número de filas no nulas de la matriz.\",\n",
        "            \"D. El número máximo de columnas linealmente independientes en la matriz.\"\n",
        "        ],\n",
        "        \"answer\": \"D\"\n",
        "    },\n",
        "    {\n",
        "        \"question\": \"¿Los puntos sobre la recta $y = mx + b$ cumplen qué propiedad?\",\n",
        "        \"options\": [\n",
        "            \"A. No tienen relación entre sí.\",\n",
        "            \"B. Representan una función afín.\",\n",
        "            \"C. Son soluciones de una ecuación diferencial.\",\n",
        "            \"D. Forman una curva cuadrática.\"\n",
        "        ],\n",
        "        \"answer\": \"B\"\n",
        "    },\n",
        "    {\n",
        "        \"question\": \"¿Qué indica que dos vectores $\\\\mathbf{u}$ y $\\\\mathbf{v}$ sean ortogonales?\",\n",
        "        \"options\": [\n",
        "            \"A. Son paralelos.\",\n",
        "            \"B. Su producto punto es cero, es decir, $\\\\mathbf{u} \\\\cdot \\\\mathbf{v} = 0$.\",\n",
        "            \"C. Su producto cruz es cero.\",\n",
        "            \"D. Tienen la misma magnitud.\"\n",
        "        ],\n",
        "        \"answer\": \"B\"\n",
        "    },\n",
        "    {\n",
        "        \"question\": \"¿Qué significa que una matriz $A$ sea simétrica?\",\n",
        "        \"options\": [\n",
        "            \"A. Es triangular.\",\n",
        "            \"B. Es igual a su transpuesta, es decir, $A = A^T$.\",\n",
        "            \"C. Su determinante es cero.\",\n",
        "            \"D. No tiene valores propios.\"\n",
        "        ],\n",
        "        \"answer\": \"B\"\n",
        "    },\n",
        "    {\n",
        "        \"question\": \"¿Cuál es una condición suficiente para que una matriz $A$ sea invertible?\",\n",
        "        \"options\": [\n",
        "            \"A. Su determinante es distinto de cero, es decir, $\\\\det(A) \\\\neq 0$.\",\n",
        "            \"B. Sus columnas son paralelas.\",\n",
        "            \"C. Tiene al menos una fila nula.\",\n",
        "            \"D. Sus filas son dependientes.\"\n",
        "        ],\n",
        "        \"answer\": \"A\"\n",
        "    },\n",
        "\n",
        "     {\n",
        "        \"question\": \"¿Cómo se descompone un vector $\\\\mathbf{u}$ respecto a otro vector $\\\\mathbf{v}$?\",\n",
        "        \"options\": [\n",
        "            \"A. $\\\\mathbf{u} = \\\\frac{\\langle \\\\mathbf{u}, \\\\mathbf{v} \\rangle}{\\langle \\\\mathbf{v}, \\\\mathbf{v} \\rangle} \\\\mathbf{v} + \\\\mathbf{w}$\",\n",
        "            \"B. Todas son más falsas que Judas.\",\n",
        "            \"C. $\\\\mathbf{u} = \\langle \\\\mathbf{u}| \\\\mathbf{v} \\rangle \\\\cdot \\\\mathbf{v}$\",\n",
        "            \"D. $\\\\mathbf{u} = \\\\mathbf{v} + \\\\mathbf{w}$\"\n",
        "        ],\n",
        "        \"answer\": \"A\"\n",
        "    },\n",
        "    {\n",
        "        \"question\": \"¿Qué propiedad caracteriza a una matriz de proyección $\\\\text{Proj}_S$?\",\n",
        "        \"options\": [\n",
        "            \"A. $\\\\text{Proj}_S^2 = \\\\text{Proj}_S$.\",\n",
        "            \"B. Es invertible.\",\n",
        "            \"C. Es simétrica.\",\n",
        "            \"D. Su determinante es nulo.\"\n",
        "        ],\n",
        "        \"answer\": \"A\"\n",
        "    },\n",
        "    {\n",
        "        \"question\": \"¿Cuál es la propiedad de una matriz ortogonal $Q$?\",\n",
        "        \"options\": [\n",
        "            \"A. $Q^T Q = I$.\",\n",
        "            \"B. Sus columnas forman una base ortonormal.\",\n",
        "            \"C. $Q^T Q = 2I$.\",\n",
        "            \"D. Su determinante siempre es negativo.\"\n",
        "        ],\n",
        "        \"answer\": \"A\"\n",
        "    },\n",
        "    {\n",
        "        \"question\": \"Si $A$ es una matriz simétrica, ¿qué se cumple para sus valores propios?\",\n",
        "        \"options\": [\n",
        "            \"A. Son siempre reales.\",\n",
        "            \"B. Pueden ser complejos o reales.\",\n",
        "            \"C. Son siempre complejos.\",\n",
        "            \"D. Son siempre mayores a cero.\"\n",
        "        ],\n",
        "        \"answer\": \"A\"\n",
        "    },\n",
        "    {\n",
        "        \"question\": \"¿Qué significa que un sistema de ecuaciones sea homogéneo?\",\n",
        "        \"options\": [\n",
        "            \"A. Que la forma general es $Ax = 0$.\",\n",
        "            \"B. Que tiene una solución única.\",\n",
        "            \"C. Que sus ecuaciones tienen términos constantes.\",\n",
        "            \"D. Que siempre tiene infinitas soluciones.\"\n",
        "        ],\n",
        "        \"answer\": \"A\"\n",
        "    },\n",
        "\n",
        "\n",
        "    {\n",
        "        \"question\": \"Un vector unitario tiene norma:\",\n",
        "        \"options\": [\n",
        "            \"D. Menor a 1.\",\n",
        "            \"C. Igual a 0.\",\n",
        "            \"B. Igual a 1.\",\n",
        "            \"A. Mayor a 1.\"\n",
        "        ],\n",
        "        \"answer\": \"B\"\n",
        "    },\n",
        "    {\n",
        "        \"question\": \"La recta de regresión tiene la forma:\",\n",
        "        \"options\": [\n",
        "            \"A. $y = a x + b + c$.\",\n",
        "            \"B. $y = \\\\sin (x) + b$.\",\n",
        "            \"C. $y = a x^2 + b x + c$.\",\n",
        "            \"D. $y = m x + b$.\"\n",
        "        ],\n",
        "        \"answer\": \"D\"\n",
        "    },\n",
        "    {\n",
        "        \"question\": \"Una matriz ortogonal cumple que:\",\n",
        "        \"options\": [\n",
        "            \"B. $A^{\\\\top} A = A$.\",\n",
        "            \"C. $A^{\\\\top} = A$.\",\n",
        "            \"D. $A^{-1} = 0$.\",\n",
        "            \"A. $A^{\\\\top} A = I$.\"\n",
        "        ],\n",
        "        \"answer\": \"A\"\n",
        "    },\n",
        "    {\n",
        "        \"question\": \"¿Qué representa el núcleo de una aplicación lineal $f : E \\\\to F$?\",\n",
        "        \"options\": [\n",
        "            \"B. Los vectores de $F$ que generan la imagen.\",\n",
        "            \"C. El conjunto vacío.\",\n",
        "            \"A. Los vectores de $E$ cuya imagen es cero.\",\n",
        "            \"D. Los vectores de $F$ cuya imagen es cero.\"\n",
        "        ],\n",
        "        \"answer\": \"A\"\n",
        "    },\n",
        "    {\n",
        "        \"question\": \"¿Qué elementos forman parte de un sistema de referencia en un espacio afín?\",\n",
        "        \"options\": [\n",
        "            \"D. Una matriz y un vector.\",\n",
        "            \"C. Dos puntos cualesquiera.\",\n",
        "            \"A. Un origen y una dirección.\",\n",
        "            \"B. Un origen y una base del espacio vectorial.\"\n",
        "        ],\n",
        "        \"answer\": \"B\"\n",
        "    },\n",
        "\n",
        "\n",
        "    {\n",
        "        \"question\": \"Una base es ortonormal si:\",\n",
        "        \"options\": [\n",
        "            \"D. Es una base arbitraria.\",\n",
        "            \"A. Todos sus vectores son linealmente dependientes.\",\n",
        "            \"B. Es ortogonal y sus vectores tienen norma 1.\",\n",
        "            \"C. Es ortogonal y sus vectores son paralelos.\"\n",
        "        ],\n",
        "        \"answer\": \"B\"\n",
        "    },\n",
        "    {\n",
        "        \"question\": \"La proyección ortogonal de un vector $y$ sobre un subespacio $W$ es:\",\n",
        "        \"options\": [\n",
        "            \"B. El vector $\\\\mathbf{z}$ tal que $\\\\mathbf{z} \\\\perp W$.\",\n",
        "            \"D. El escalar $\\\\langle \\\\mathbf{y}, W \\\\rangle$.\",\n",
        "            \"A. El vector $\\\\mathbf{y} - W$.\",\n",
        "            \"C. El vector $\\\\mathbf{y}'$ en $W$.\"\n",
        "        ],\n",
        "        \"answer\": \"C\"\n",
        "    },\n",
        "    {\n",
        "        \"question\": \"La desigualdad de Schwarz establece que:\",\n",
        "        \"options\": [\n",
        "            \"B. $\\\\left| \\\\langle \\\\mathbf{u}, \\\\mathbf{v} \\\\rangle \\\\right| = \\\\| \\\\mathbf{u} \\\\| \\\\| \\\\mathbf{v} \\\\|$.\",\n",
        "            \"C. $\\\\langle \\\\mathbf{u}, \\\\mathbf{v} \\\\rangle \\\\geq \\\\| \\\\mathbf{u} \\\\| - \\\\| \\\\mathbf{v} \\\\|$.\",\n",
        "            \"D. No tiene relación con normas.\",\n",
        "            \"A. $\\\\left| \\\\langle \\\\mathbf{u}, \\\\mathbf{v} \\\\rangle \\\\right| \\\\leq \\\\| \\\\mathbf{u} \\\\| \\\\| \\\\mathbf{v} \\\\|$.\"\n",
        "        ],\n",
        "        \"answer\": \"A\"\n",
        "    },\n",
        "    {\n",
        "        \"question\": \"¿Qué caracteriza a una función suprayectiva?\",\n",
        "        \"options\": [\n",
        "            \"C. Su dominio es finito.\",\n",
        "            \"B. Cada elemento del codominio tiene al menos una preimagen.\",\n",
        "            \"D. Ninguna de las anteriores.\",\n",
        "            \"A. Es una función biyectiva.\"\n",
        "        ],\n",
        "        \"answer\": \"B\"\n",
        "    },\n",
        "    {\n",
        "        \"question\": \"¿Qué se necesita para calcular los vectores propios de una matriz?\",\n",
        "        \"options\": [\n",
        "            \"C. Encontrar una matriz semejante.\",\n",
        "            \"B. Calcular el polinomio característico.\",\n",
        "            \"D. Cambiar de base.\",\n",
        "            \"A. Resolver el sistema $(A - \\\\lambda I) \\\\mathbf{x} = 0$.\"\n",
        "        ],\n",
        "        \"answer\": \"A\"\n",
        "    },\n",
        "    {\n",
        "        \"question\": \"¿Cómo se define una aplicación afín?\",\n",
        "        \"options\": [\n",
        "            \"C. Como una aplicación que se descompone en una traslación y una lineal.\",\n",
        "            \"D. Como una matriz invertible aplicada a un espacio afín.\",\n",
        "            \"A. Como una aplicación lineal entre espacios afines.\",\n",
        "            \"B. Como una transformación de un espacio afín que preserva las distancias.\"\n",
        "        ],\n",
        "        \"answer\": \"C\"\n",
        "    },\n",
        "    {\n",
        "        \"question\": \"¿Qué es un grupo?\",\n",
        "        \"options\": [\n",
        "            \"A. Un conjunto con una composición interna asociativa, elemento neutro y simétrico.\",\n",
        "            \"C. Un espacio vectorial con una métrica definida.\",\n",
        "            \"D. Un conjunto cerrado bajo suma y producto.\",\n",
        "            \"B. Un conjunto finito de vectores.\"\n",
        "        ],\n",
        "        \"answer\": \"A\"\n",
        "    },\n",
        "    {\n",
        "        \"question\": \"¿Qué condición deben cumplir los subespacios vectoriales $U$ y $W$ para que su suma sea directa?\",\n",
        "        \"options\": [\n",
        "            \"A. $U + W = V$.\",\n",
        "            \"D. Ninguna de las anteriores.\",\n",
        "            \"C. $U = W$.\",\n",
        "            \"B. $U \\\\cap W = \\\\{ \\\\mathbf{0} \\\\}$.\"\n",
        "        ],\n",
        "        \"answer\": \"B\"\n",
        "    },\n",
        "\n",
        "{\n",
        "        \"question\": \"¿Qué propiedad tiene el producto escalar canónico en $\\\\mathbb{R}^n$?\",\n",
        "        \"options\": [\n",
        "            \"D. Es independiente de las coordenadas.\",\n",
        "            \"A. Es simétrico y bilineal.\",\n",
        "            \"C. Es mayor que 1 para cualquier par de vectores.\",\n",
        "            \"B. Siempre es positivo.\"\n",
        "        ],\n",
        "        \"answer\": \"A\"\n",
        "    },\n",
        "    {\n",
        "        \"question\": \"¿Qué significa que dos subespacios sean ortogonales?\",\n",
        "        \"options\": [\n",
        "            \"C. Sus bases forman una matriz identidad.\",\n",
        "            \"D. Sus dimensiones son iguales.\",\n",
        "            \"B. Todos los vectores de un subespacio son ortogonales a los del otro.\",\n",
        "            \"A. No tienen vectores en común.\"\n",
        "        ],\n",
        "        \"answer\": \"B\"\n",
        "    },\n",
        "    {\n",
        "        \"question\": \"¿Qué define el módulo de un vector $\\\\mathbf{v}$ en un espacio euclídeo?\",\n",
        "        \"options\": [\n",
        "            \"D. La norma del espacio al que pertenece.\",\n",
        "            \"B. Su suma de coordenadas.\",\n",
        "            \"A. Su distancia al origen.\",\n",
        "            \"C. Su producto escalar consigo mismo.\"\n",
        "        ],\n",
        "        \"answer\": \"A\"\n",
        "    },\n",
        "    {\n",
        "        \"question\": \"Señala la afirmación falsa:\",\n",
        "        \"options\": [\n",
        "            \"C. $\\\\left( \\\\bar{v} \\\\cdot \\\\mathbf{v} \\\\bar{v} \\\\right) = r^2 \\\\left( \\\\bar{v} \\\\mathbf{v} \\\\bar{v} \\\\right) \\\\quad \\\\forall r \\\\in \\\\mathbb{R}$.\",\n",
        "            \"B. Un vector y su negativo tienen la misma longitud.\",\n",
        "            \"A. La longitud de un vector es nula o positiva.\",\n",
        "            \"D. Si dos vectores son ortogonales, entonces son linealmente independientes.\"\n",
        "        ],\n",
        "        \"answer\": \"C\"\n",
        "    },\n",
        "    {\n",
        "        \"question\": \"Un espacio afín:\",\n",
        "        \"options\": [\n",
        "            \"B. Está principalmente asociado a un espacio vectorial.\",\n",
        "            \"D. Existe una aplicación tal que a cada escalar le asigna un vector de dos componentes.\",\n",
        "            \"C. Todas son falsas.\",\n",
        "            \"A. Está principalmente asociado a un cuerpo matemático.\"\n",
        "        ],\n",
        "        \"answer\": \"B\"\n",
        "    },\n",
        "    {\n",
        "        \"question\": \"La ordenada ($y$) en el origen de una recta es:\",\n",
        "        \"options\": [\n",
        "            \"A. El valor que tiene la coordenada $y$ cuando $x$ vale cero.\",\n",
        "            \"B. El valor que tiene la coordenada $x$ cuando $y$ vale cero.\",\n",
        "            \"C. El valor de intermedio de la recta.\",\n",
        "            \"D. Todas son falsas.\"\n",
        "        ],\n",
        "        \"answer\": \"A\"\n",
        "    },\n",
        "\n",
        "\n",
        "\n",
        "    {\n",
        "        \"question\": \"¿Cuál de las siguientes afirmaciones sobre los subespacios vectoriales es cierta?\",\n",
        "        \"options\": [\n",
        "            \"A. La intersección de dos subespacios siempre es un subespacio.\",\n",
        "            \"B. Un subespacio siempre contiene al menos un vector no nulo.\",\n",
        "            \"C. La intersección de dos subespacios no es necesariamente un subespacio.\",\n",
        "            \"D. Un subespacio solo puede tener dimensión 1 o 2.\"\n",
        "        ],\n",
        "        \"answer\": \"A\"\n",
        "},\n",
        "    {\n",
        "        \"question\": \"¿Qué condición deben cumplir los subespacios vectoriales $U$ y $W$ para que su suma sea directa?\",\n",
        "        \"options\": [\n",
        "            \"D. Ninguna de las anteriores.\",\n",
        "            \"C. $U = W$.\",\n",
        "            \"A. $U + W = V$.\",\n",
        "            \"B. $U \\\\cap W = \\\\{ 0 \\\\}$.\"\n",
        "        ],\n",
        "        \"answer\": \"B\"\n",
        "    },\n",
        "    {\n",
        "        \"question\": \"¿Qué define una aplicación lineal $f$?\",\n",
        "        \"options\": [\n",
        "            \"C. Una correspondencia simétrica.\",\n",
        "            \"A. $f(\\\\mathbf{u} + \\\\mathbf{v}) = f(\\\\mathbf{u}) + f(\\\\mathbf{v})$ y $f(\\\\alpha \\\\mathbf{u}) = \\\\alpha f(\\\\mathbf{u})$.\",\n",
        "            \"B. Una relación entre vectores.\",\n",
        "            \"D. Una aplicación no inyectiva.\"\n",
        "        ],\n",
        "        \"answer\": \"A\"\n",
        "\n",
        "\n",
        "    },\n",
        "    {\n",
        "        \"question\": \"¿Qué condición garantiza que un conjunto de vectores sea una base de un espacio vectorial?\",\n",
        "        \"options\": [\n",
        "            \"A. Que sean linealmente independientes y generen el espacio.\",\n",
        "            \"B. Que sean ortonormales.\",\n",
        "            \"C. Que sean ortogonales.\",\n",
        "            \"D. Que sumen cero.\"\n",
        "        ],\n",
        "        \"answer\": \"A\"\n",
        "    },\n",
        "    {\n",
        "        \"question\": \"Si $A$ es una matriz invertible, ¿qué se cumple para su determinante?\",\n",
        "        \"options\": [\n",
        "            \"A. Es distinto de 0.\",\n",
        "            \"B. Es siempre mayor que 1.\",\n",
        "            \"C. Es igual a 0.\",\n",
        "            \"D. Es negativo.\"\n",
        "        ],\n",
        "        \"answer\": \"A\"\n",
        "    }\n",
        "]"
      ]
    },
    {
      "cell_type": "code",
      "execution_count": 9,
      "metadata": {
        "id": "ezyJx6zgeesN"
      },
      "outputs": [],
      "source": [
        "# Función para mostrar preguntas en formato Markdown correctamente\n",
        "def mostrar_pregunta(p, randomizar_orden_respuestas=True):\n",
        "    opciones_list = p[\"options\"]\n",
        "    answer = p['answer']\n",
        "\n",
        "    option_ids = list(range(len(opciones_list)))\n",
        "    option_letters = [respuesta[0] for respuesta in opciones_list]\n",
        "    option_letters_ids_dict = dict(zip(option_letters, option_ids))\n",
        "    option_ids_letters_dict = dict(zip(option_ids, option_letters))\n",
        "    answer_id = option_letters_ids_dict[answer]\n",
        "\n",
        "    if randomizar_orden_respuestas:\n",
        "        random.shuffle(option_ids)\n",
        "\n",
        "        # print(opciones_list, answer)\n",
        "        opciones_list_shuffled = []\n",
        "        for orig_id, id in enumerate(option_ids):\n",
        "            opciones_list_shuffled.append(option_ids_letters_dict[orig_id] + opciones_list[id][1:])\n",
        "            if id == answer_id: answer = option_ids_letters_dict[orig_id]\n",
        "\n",
        "        opciones_list = opciones_list_shuffled\n",
        "        # print(opciones_list, answer)\n",
        "\n",
        "        p[\"options\"] = opciones_list\n",
        "        p[\"answer\"] = answer\n",
        "\n",
        "    opciones = \"\\n\".join([f\"- {opt}\" for opt in opciones_list])\n",
        "    texto = f\"**{p['question']}**\\n\\n{opciones}\\n\"\n",
        "    display(Markdown(texto))\n",
        "\n",
        "    return p\n",
        "\n",
        "\n",
        "\n",
        "def evaluar(questions, randomizar_orden_preguntas=True, randomizar_orden_respuestas=True, puntos_respuesta_correcta=1, descuento_respuesta_incorrecta=-0.5, valor_normalizar=10, total_preguntas_examen=16):\n",
        "    eval_questions = copy.deepcopy(questions)\n",
        "    if randomizar_orden_preguntas: random.shuffle(eval_questions)\n",
        "\n",
        "    # Recorrer preguntas 9 a 16 con formato correcto\n",
        "    puntuacion = 0\n",
        "    for i, q in enumerate(eval_questions, start=1):\n",
        "      input(\"\\nPresiona ENTER para ver la siguiente pregunta...\")\n",
        "      p = mostrar_pregunta(q, randomizar_orden_respuestas)\n",
        "      answer = input(\"Tu respuesta (A, B, C, D) o saltar (S): \").strip().upper()\n",
        "\n",
        "      if answer == \"S\":\n",
        "        display(Markdown(f\"**Pregunta saltada.** La respuesta correcta era **{q['answer']}**.\\n\"))\n",
        "      elif answer == q[\"answer\"]:\n",
        "          display(Markdown(\"✅ **Respuesta correcta!**\\n\"))\n",
        "          puntuacion += puntos_respuesta_correcta\n",
        "      else:\n",
        "          display(Markdown(f\"❌ **Respuesta incorrecta.** La respuesta correcta era **{q['answer']}**.\\n\"))\n",
        "          puntuacion += descuento_respuesta_incorrecta\n",
        "      if i == total_preguntas_examen :\n",
        "        break\n",
        "    puntuacion_maxima = i\n",
        "    if valor_normalizar:\n",
        "        puntuacion = (puntuacion / puntuacion_maxima) * valor_normalizar\n",
        "        puntuacion_maxima = valor_normalizar\n",
        "\n",
        "    # Mensaje final\n",
        "    display(Markdown(f\"**Examen finalizado. Puntuación: {puntuacion:.2f}/{puntuacion_maxima}**\"))\n",
        "    # Mensaje final\n",
        "    display(Markdown(f\"**Examen finalizado.**\"))"
      ]
    },
    {
      "cell_type": "code",
      "execution_count": 10,
      "metadata": {
        "colab": {
          "base_uri": "https://localhost:8080/",
          "height": 1000
        },
        "id": "nDU8u5WkhJxG",
        "outputId": "70377f2a-6c45-4130-d820-f05bcbb3fb6b"
      },
      "outputs": [
        {
          "name": "stdout",
          "output_type": "stream",
          "text": [
            "\n",
            "Presiona ENTER para ver la siguiente pregunta...\n"
          ]
        },
        {
          "output_type": "display_data",
          "data": {
            "text/plain": [
              "<IPython.core.display.Markdown object>"
            ],
            "text/markdown": "**Un vector unitario tiene norma:**\n\n- D. Igual a 1.\n- C. Menor a 1.\n- B. Mayor a 1.\n- A. Igual a 0.\n"
          },
          "metadata": {}
        },
        {
          "name": "stdout",
          "output_type": "stream",
          "text": [
            "Tu respuesta (A, B, C, D) o saltar (S): D\n"
          ]
        },
        {
          "output_type": "display_data",
          "data": {
            "text/plain": [
              "<IPython.core.display.Markdown object>"
            ],
            "text/markdown": "✅ **Respuesta correcta!**\n"
          },
          "metadata": {}
        },
        {
          "name": "stdout",
          "output_type": "stream",
          "text": [
            "\n",
            "Presiona ENTER para ver la siguiente pregunta...\n"
          ]
        },
        {
          "output_type": "display_data",
          "data": {
            "text/plain": [
              "<IPython.core.display.Markdown object>"
            ],
            "text/markdown": "**¿Qué sucede si una matriz tiene autovalores repetidos pero sigue siendo diagonalizable?**\n\n- D. La matriz tiene subespacios propios de mayor dimensión.\n- B. Los autovalores repetidos impiden que la matriz sea diagonalizable.\n- A. Los autovalores repetidos corresponden a vectores propios linealmente dependientes.\n- C. Los subespacios propios asociados a los autovalores repetidos son linealmente independientes.\n"
          },
          "metadata": {}
        },
        {
          "name": "stdout",
          "output_type": "stream",
          "text": [
            "Tu respuesta (A, B, C, D) o saltar (S): A\n"
          ]
        },
        {
          "output_type": "display_data",
          "data": {
            "text/plain": [
              "<IPython.core.display.Markdown object>"
            ],
            "text/markdown": "❌ **Respuesta incorrecta.** La respuesta correcta era **C**.\n"
          },
          "metadata": {}
        },
        {
          "name": "stdout",
          "output_type": "stream",
          "text": [
            "\n",
            "Presiona ENTER para ver la siguiente pregunta...\n"
          ]
        },
        {
          "output_type": "display_data",
          "data": {
            "text/plain": [
              "<IPython.core.display.Markdown object>"
            ],
            "text/markdown": "**¿Qué define el módulo de un vector $\\mathbf{v}$ en un espacio euclídeo?**\n\n- D. Su producto escalar consigo mismo.\n- B. La norma del espacio al que pertenece.\n- A. Su distancia al origen.\n- C. Su suma de coordenadas.\n"
          },
          "metadata": {}
        },
        {
          "name": "stdout",
          "output_type": "stream",
          "text": [
            "Tu respuesta (A, B, C, D) o saltar (S): A\n"
          ]
        },
        {
          "output_type": "display_data",
          "data": {
            "text/plain": [
              "<IPython.core.display.Markdown object>"
            ],
            "text/markdown": "✅ **Respuesta correcta!**\n"
          },
          "metadata": {}
        },
        {
          "name": "stdout",
          "output_type": "stream",
          "text": [
            "\n",
            "Presiona ENTER para ver la siguiente pregunta...\n"
          ]
        },
        {
          "output_type": "display_data",
          "data": {
            "text/plain": [
              "<IPython.core.display.Markdown object>"
            ],
            "text/markdown": "**¿Qué diferencia hay entre un espacio euclídeo y un espacio afín?**\n\n- B. Ambos tienen un origen fijo.\n- C. El espacio euclídeo es independiente del origen.\n- A. Solo el espacio afín incluye un producto escalar.\n- D. El espacio afín no tiene un origen fijo y es relativo.\n"
          },
          "metadata": {}
        },
        {
          "name": "stdout",
          "output_type": "stream",
          "text": [
            "Tu respuesta (A, B, C, D) o saltar (S): D\n"
          ]
        },
        {
          "output_type": "display_data",
          "data": {
            "text/plain": [
              "<IPython.core.display.Markdown object>"
            ],
            "text/markdown": "✅ **Respuesta correcta!**\n"
          },
          "metadata": {}
        },
        {
          "name": "stdout",
          "output_type": "stream",
          "text": [
            "\n",
            "Presiona ENTER para ver la siguiente pregunta...\n"
          ]
        },
        {
          "output_type": "display_data",
          "data": {
            "text/plain": [
              "<IPython.core.display.Markdown object>"
            ],
            "text/markdown": "**¿Qué ocurre si $P + \\mathbf{v} = P$ en un espacio afín?**\n\n- A. El vector $\\mathbf{v}$ es igual a cero.\n- C. El vector $\\mathbf{v}$ es distinto de cero.\n- D. El espacio afín pierde su estructura.\n- B. El punto $P$ se traslada al origen.\n"
          },
          "metadata": {}
        },
        {
          "name": "stdout",
          "output_type": "stream",
          "text": [
            "Tu respuesta (A, B, C, D) o saltar (S): A\n"
          ]
        },
        {
          "output_type": "display_data",
          "data": {
            "text/plain": [
              "<IPython.core.display.Markdown object>"
            ],
            "text/markdown": "✅ **Respuesta correcta!**\n"
          },
          "metadata": {}
        },
        {
          "name": "stdout",
          "output_type": "stream",
          "text": [
            "\n",
            "Presiona ENTER para ver la siguiente pregunta...\n"
          ]
        },
        {
          "output_type": "display_data",
          "data": {
            "text/plain": [
              "<IPython.core.display.Markdown object>"
            ],
            "text/markdown": "**¿Qué mide la varianza en un conjunto de datos?**\n\n- A. La covarianza entre los datos.\n- B. El coeficiente de correlación lineal.\n- C. La pendiente del modelo ajustado.\n- D. La dispersión respecto a la media.\n"
          },
          "metadata": {}
        },
        {
          "name": "stdout",
          "output_type": "stream",
          "text": [
            "Tu respuesta (A, B, C, D) o saltar (S): D\n"
          ]
        },
        {
          "output_type": "display_data",
          "data": {
            "text/plain": [
              "<IPython.core.display.Markdown object>"
            ],
            "text/markdown": "✅ **Respuesta correcta!**\n"
          },
          "metadata": {}
        },
        {
          "name": "stdout",
          "output_type": "stream",
          "text": [
            "\n",
            "Presiona ENTER para ver la siguiente pregunta...\n"
          ]
        },
        {
          "output_type": "display_data",
          "data": {
            "text/plain": [
              "<IPython.core.display.Markdown object>"
            ],
            "text/markdown": "**¿Cómo se descompone un vector $\\mathbf{u}$ respecto a otro vector $\\mathbf{v}$?**\n\n- A. $\\mathbf{u} = \\frac{\\langle \\mathbf{u}, \\mathbf{v} \rangle}{\\langle \\mathbf{v}, \\mathbf{v} \rangle} \\mathbf{v} + \\mathbf{w}$\n- B. Todas son más falsas que Judas.\n- C. $\\mathbf{u} = \\mathbf{v} + \\mathbf{w}$\n- D. $\\mathbf{u} = \\langle \\mathbf{u}| \\mathbf{v} \rangle \\cdot \\mathbf{v}$\n"
          },
          "metadata": {}
        },
        {
          "name": "stdout",
          "output_type": "stream",
          "text": [
            "Tu respuesta (A, B, C, D) o saltar (S): A\n"
          ]
        },
        {
          "output_type": "display_data",
          "data": {
            "text/plain": [
              "<IPython.core.display.Markdown object>"
            ],
            "text/markdown": "✅ **Respuesta correcta!**\n"
          },
          "metadata": {}
        },
        {
          "name": "stdout",
          "output_type": "stream",
          "text": [
            "\n",
            "Presiona ENTER para ver la siguiente pregunta...\n"
          ]
        },
        {
          "output_type": "display_data",
          "data": {
            "text/plain": [
              "<IPython.core.display.Markdown object>"
            ],
            "text/markdown": "**¿Qué indica que dos vectores $\\mathbf{u}$ y $\\mathbf{v}$ sean ortogonales?**\n\n- A. Son paralelos.\n- B. Su producto punto es cero, es decir, $\\mathbf{u} \\cdot \\mathbf{v} = 0$.\n- C. Su producto cruz es cero.\n- D. Tienen la misma magnitud.\n"
          },
          "metadata": {}
        },
        {
          "name": "stdout",
          "output_type": "stream",
          "text": [
            "Tu respuesta (A, B, C, D) o saltar (S): B\n"
          ]
        },
        {
          "output_type": "display_data",
          "data": {
            "text/plain": [
              "<IPython.core.display.Markdown object>"
            ],
            "text/markdown": "✅ **Respuesta correcta!**\n"
          },
          "metadata": {}
        },
        {
          "name": "stdout",
          "output_type": "stream",
          "text": [
            "\n",
            "Presiona ENTER para ver la siguiente pregunta...\n"
          ]
        },
        {
          "output_type": "display_data",
          "data": {
            "text/plain": [
              "<IPython.core.display.Markdown object>"
            ],
            "text/markdown": "**¿Cómo se obtiene una matriz diagonal a partir de una matriz diagonalizable?**\n\n- A. Resolviendo el polinomio característico.\n- D. Calculando los vectores propios de la matriz.\n- C. Aplicando una transformación ortogonal.\n- B. Multiplicando por $P^{-1}$ (matriz de transición invertida) por la derecha y $P$ por la izquierda.\n"
          },
          "metadata": {}
        },
        {
          "name": "stdout",
          "output_type": "stream",
          "text": [
            "Tu respuesta (A, B, C, D) o saltar (S): S\n"
          ]
        },
        {
          "output_type": "display_data",
          "data": {
            "text/plain": [
              "<IPython.core.display.Markdown object>"
            ],
            "text/markdown": "**Pregunta saltada.** La respuesta correcta era **B**.\n"
          },
          "metadata": {}
        },
        {
          "name": "stdout",
          "output_type": "stream",
          "text": [
            "\n",
            "Presiona ENTER para ver la siguiente pregunta...\n"
          ]
        },
        {
          "output_type": "display_data",
          "data": {
            "text/plain": [
              "<IPython.core.display.Markdown object>"
            ],
            "text/markdown": "**¿Qué significa que dos subespacios sean ortogonales?**\n\n- C. No tienen vectores en común.\n- D. Sus bases forman una matriz identidad.\n- B. Todos los vectores de un subespacio son ortogonales a los del otro.\n- A. Sus dimensiones son iguales.\n"
          },
          "metadata": {}
        },
        {
          "name": "stdout",
          "output_type": "stream",
          "text": [
            "Tu respuesta (A, B, C, D) o saltar (S): B\n"
          ]
        },
        {
          "output_type": "display_data",
          "data": {
            "text/plain": [
              "<IPython.core.display.Markdown object>"
            ],
            "text/markdown": "✅ **Respuesta correcta!**\n"
          },
          "metadata": {}
        },
        {
          "name": "stdout",
          "output_type": "stream",
          "text": [
            "\n",
            "Presiona ENTER para ver la siguiente pregunta...\n"
          ]
        },
        {
          "output_type": "display_data",
          "data": {
            "text/plain": [
              "<IPython.core.display.Markdown object>"
            ],
            "text/markdown": "**¿Cuál es la dimensión de un subespacio propio asociado a un autovalor?**\n\n- A. El rango de la matriz $A - \\lambda I$.\n- C. El determinante de la matriz $A - \\lambda I$.\n- D. El número de soluciones linealmente independientes del sistema $(A - \\lambda I) v = 0$.\n- B. La multiplicidad del autovalor como raíz del polinomio característico.\n"
          },
          "metadata": {}
        },
        {
          "name": "stdout",
          "output_type": "stream",
          "text": [
            "Tu respuesta (A, B, C, D) o saltar (S): D\n"
          ]
        },
        {
          "output_type": "display_data",
          "data": {
            "text/plain": [
              "<IPython.core.display.Markdown object>"
            ],
            "text/markdown": "❌ **Respuesta incorrecta.** La respuesta correcta era **B**.\n"
          },
          "metadata": {}
        },
        {
          "name": "stdout",
          "output_type": "stream",
          "text": [
            "\n",
            "Presiona ENTER para ver la siguiente pregunta...\n"
          ]
        },
        {
          "output_type": "display_data",
          "data": {
            "text/plain": [
              "<IPython.core.display.Markdown object>"
            ],
            "text/markdown": "**Si $\\dim V = n$ y $\\dim W = m$, entonces $\\dim (V \\oplus W)$ es:**\n\n- C. $n - m$.\n- D. $n + m$.\n- A. $n \\cdot m$.\n- B. $\\max(n, m)$.\n"
          },
          "metadata": {}
        },
        {
          "name": "stdout",
          "output_type": "stream",
          "text": [
            "Tu respuesta (A, B, C, D) o saltar (S): D\n"
          ]
        },
        {
          "output_type": "display_data",
          "data": {
            "text/plain": [
              "<IPython.core.display.Markdown object>"
            ],
            "text/markdown": "✅ **Respuesta correcta!**\n"
          },
          "metadata": {}
        },
        {
          "name": "stdout",
          "output_type": "stream",
          "text": [
            "\n",
            "Presiona ENTER para ver la siguiente pregunta...\n"
          ]
        },
        {
          "output_type": "display_data",
          "data": {
            "text/plain": [
              "<IPython.core.display.Markdown object>"
            ],
            "text/markdown": "**¿Qué define una aplicación lineal $f$?**\n\n- C. $f(\\mathbf{u} + \\mathbf{v}) = f(\\mathbf{u}) + f(\\mathbf{v})$ y $f(\\alpha \\mathbf{u}) = \\alpha f(\\mathbf{u})$.\n- A. Una correspondencia simétrica.\n- B. Una aplicación no inyectiva.\n- D. Una relación entre vectores.\n"
          },
          "metadata": {}
        },
        {
          "name": "stdout",
          "output_type": "stream",
          "text": [
            "Tu respuesta (A, B, C, D) o saltar (S): C\n"
          ]
        },
        {
          "output_type": "display_data",
          "data": {
            "text/plain": [
              "<IPython.core.display.Markdown object>"
            ],
            "text/markdown": "✅ **Respuesta correcta!**\n"
          },
          "metadata": {}
        },
        {
          "name": "stdout",
          "output_type": "stream",
          "text": [
            "\n",
            "Presiona ENTER para ver la siguiente pregunta...\n"
          ]
        },
        {
          "output_type": "display_data",
          "data": {
            "text/plain": [
              "<IPython.core.display.Markdown object>"
            ],
            "text/markdown": "**En una aplicación afín, ¿qué papel juega el término de traslación $\\mathbf{b}$?**\n\n- C. Introducir una métrica definida.\n- A. Preservar distancias y ángulos.\n- B. Desplazar los puntos en el espacio afín.\n- D. Rotar el espacio vectorial subyacente.\n"
          },
          "metadata": {}
        },
        {
          "name": "stdout",
          "output_type": "stream",
          "text": [
            "Tu respuesta (A, B, C, D) o saltar (S): B\n"
          ]
        },
        {
          "output_type": "display_data",
          "data": {
            "text/plain": [
              "<IPython.core.display.Markdown object>"
            ],
            "text/markdown": "✅ **Respuesta correcta!**\n"
          },
          "metadata": {}
        },
        {
          "name": "stdout",
          "output_type": "stream",
          "text": [
            "\n",
            "Presiona ENTER para ver la siguiente pregunta...\n"
          ]
        },
        {
          "output_type": "display_data",
          "data": {
            "text/plain": [
              "<IPython.core.display.Markdown object>"
            ],
            "text/markdown": "**Si $A$ es una matriz invertible, ¿qué se cumple para su determinante?**\n\n- A. Es negativo.\n- B. Es siempre mayor que 1.\n- C. Es distinto de 0.\n- D. Es igual a 0.\n"
          },
          "metadata": {}
        },
        {
          "name": "stdout",
          "output_type": "stream",
          "text": [
            "Tu respuesta (A, B, C, D) o saltar (S): C\n"
          ]
        },
        {
          "output_type": "display_data",
          "data": {
            "text/plain": [
              "<IPython.core.display.Markdown object>"
            ],
            "text/markdown": "✅ **Respuesta correcta!**\n"
          },
          "metadata": {}
        },
        {
          "name": "stdout",
          "output_type": "stream",
          "text": [
            "\n",
            "Presiona ENTER para ver la siguiente pregunta...\n"
          ]
        },
        {
          "output_type": "display_data",
          "data": {
            "text/plain": [
              "<IPython.core.display.Markdown object>"
            ],
            "text/markdown": "**¿Qué mide una función de pérdida en un ajuste de datos?**\n\n- A. El número de parámetros necesarios para el ajuste.\n- B. La relación entre variables dependientes e independientes.\n- C. La precisión del modelo al predecir datos experimentales.\n- D. El rango de las variables independientes.\n"
          },
          "metadata": {}
        },
        {
          "name": "stdout",
          "output_type": "stream",
          "text": [
            "Tu respuesta (A, B, C, D) o saltar (S): C\n"
          ]
        },
        {
          "output_type": "display_data",
          "data": {
            "text/plain": [
              "<IPython.core.display.Markdown object>"
            ],
            "text/markdown": "✅ **Respuesta correcta!**\n"
          },
          "metadata": {}
        },
        {
          "output_type": "display_data",
          "data": {
            "text/plain": [
              "<IPython.core.display.Markdown object>"
            ],
            "text/markdown": "**Examen finalizado. Puntuación: 7.50/10**"
          },
          "metadata": {}
        },
        {
          "output_type": "display_data",
          "data": {
            "text/plain": [
              "<IPython.core.display.Markdown object>"
            ],
            "text/markdown": "**Examen finalizado.**"
          },
          "metadata": {}
        }
      ],
      "source": [
        "\n",
        "\n",
        "evaluar(questions)"
      ]
    }
  ],
  "metadata": {
    "colab": {
      "provenance": []
    },
    "kernelspec": {
      "display_name": "Python 3",
      "language": "python",
      "name": "python3"
    },
    "language_info": {
      "codemirror_mode": {
        "name": "ipython",
        "version": 3
      },
      "file_extension": ".py",
      "mimetype": "text/x-python",
      "name": "python",
      "nbconvert_exporter": "python",
      "pygments_lexer": "ipython3",
      "version": "3.11.9"
    }
  },
  "nbformat": 4,
  "nbformat_minor": 0
}